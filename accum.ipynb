{
 "cells": [
  {
   "cell_type": "code",
   "execution_count": null,
   "metadata": {},
   "outputs": [],
   "source": [
    "import numpy as np\n",
    "\n",
    "def accumulation_distribution_line(prices, volumes):\n",
    "    \n",
    "    prices = np.array(prices)\n",
    "    volumes = np.array(volumes)\n",
    "\n",
    "    money_flow_multiplier = ((prices - prices.shift(1)) / (prices.shift(1))) * volumes\n",
    "\n",
    "    money_flow_volume = money_flow_multiplier + (prices - prices.shift(1)) * volumes\n",
    "\n",
    "    adl = money_flow_volume.cumsum()\n",
    "\n",
    "    return adl\n"
   ]
  }
 ],
 "metadata": {
  "language_info": {
   "name": "python"
  },
  "orig_nbformat": 4
 },
 "nbformat": 4,
 "nbformat_minor": 2
}
