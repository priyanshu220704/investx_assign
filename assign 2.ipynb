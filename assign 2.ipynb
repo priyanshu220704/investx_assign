{
 "cells": [
  {
   "cell_type": "code",
   "execution_count": null,
   "id": "b292c305",
   "metadata": {},
   "outputs": [],
   "source": [
    "predicted_sum = df_forecast['price'].sum()\n",
    "predicted_sum = predicted_sum.mean()\n",
    "df = pd.read_csv('Train.csv')\n",
    "actual_sum = df.iloc[151:201,10].sum(axis=1)\n",
    "actual_sum = actual_sum.mean()\n",
    "efficiency = ((predicted_sum - actual_sum)/actual_sum)*100"
   ]
  }
 ],
 "metadata": {
  "kernelspec": {
   "display_name": "Python 3 (ipykernel)",
   "language": "python",
   "name": "python3"
  },
  "language_info": {
   "codemirror_mode": {
    "name": "ipython",
    "version": 3
   },
   "file_extension": ".py",
   "mimetype": "text/x-python",
   "name": "python",
   "nbconvert_exporter": "python",
   "pygments_lexer": "ipython3",
   "version": "3.10.9"
  }
 },
 "nbformat": 4,
 "nbformat_minor": 5
}
