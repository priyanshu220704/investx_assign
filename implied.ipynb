{
 "cells": [
  {
   "cell_type": "code",
   "execution_count": null,
   "metadata": {},
   "outputs": [],
   "source": [
    "import math\n",
    "from scipy import optimize\n",
    "\n",
    "def calculate_option_price(S, K, r, T, sigma, option):\n",
    "    d1 = (math.log(S / K) + (r + 0.5 * sigma**2) * T) / (sigma * math.sqrt(T))\n",
    "    d2 = d1 - sigma * math.sqrt(T)\n",
    "    \n",
    "    if option == 'call':\n",
    "        price = S * norm_cdf(d1) - K * math.exp(-r * T) * norm_cdf(d2)\n",
    "    elif option == 'put':\n",
    "        price = K * math.exp(-r * T) * norm_cdf(-d2) - S * norm_cdf(-d1)\n",
    "    \n",
    "    return price\n",
    "\n",
    "def calculate_implied_volatility(S, K, r, T, price, option):\n",
    "    objective_function = lambda sigma: calculate_option_price(S, K, r, T, sigma, option) - price\n",
    "    \n",
    "    implied_volatility = optimize.newton(objective_function, x0=0.5)\n",
    "    \n",
    "    return implied_volatility\n"
   ]
  }
 ],
 "metadata": {
  "language_info": {
   "name": "python"
  },
  "orig_nbformat": 4
 },
 "nbformat": 4,
 "nbformat_minor": 2
}
