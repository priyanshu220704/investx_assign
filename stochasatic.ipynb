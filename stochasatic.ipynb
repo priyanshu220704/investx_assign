{
 "cells": [
  {
   "cell_type": "code",
   "execution_count": null,
   "metadata": {},
   "outputs": [],
   "source": [
    "import numpy as np\n",
    "\n",
    "def stochastic_oscillator(prices, k_period=14, d_period=3):\n",
    "    prices = np.array(prices)\n",
    "    min_prices = prices.rolling(window=k_period).min() \n",
    "    max_prices = prices.rolling(window=k_period).max()  \n",
    "\n",
    "    percent_k = 100 * ((prices - min_prices) / (max_prices - min_prices))\n",
    "\n",
    "    percent_d = percent_k.rolling(window=d_period).mean()\n",
    "\n",
    "    return percent_k, percent_d"
   ]
  }
 ],
 "metadata": {
  "language_info": {
   "name": "python"
  },
  "orig_nbformat": 4
 },
 "nbformat": 4,
 "nbformat_minor": 2
}
